{
 "cells": [
  {
   "cell_type": "code",
   "execution_count": 1,
   "id": "6d950d38",
   "metadata": {},
   "outputs": [],
   "source": [
    "import pandas as pd\n",
    "from sklearn.metrics import f1_score, accuracy_score"
   ]
  },
  {
   "cell_type": "code",
   "execution_count": 33,
   "id": "ebb12ed3",
   "metadata": {},
   "outputs": [],
   "source": [
    "file_path = './allenai/tk-instruct-base-def-pos-restaurants_instruct_pos_neg_neut/posnegneuttk_restaurants_test.csv'"
   ]
  },
  {
   "cell_type": "code",
   "execution_count": 34,
   "id": "6c4a4734",
   "metadata": {},
   "outputs": [],
   "source": [
    "df = pd.read_csv(file_path)"
   ]
  },
  {
   "cell_type": "code",
   "execution_count": 35,
   "id": "5b9359a4",
   "metadata": {},
   "outputs": [
    {
     "data": {
      "text/plain": [
       "0.8634959175530621"
      ]
     },
     "execution_count": 35,
     "metadata": {},
     "output_type": "execute_result"
    }
   ],
   "source": [
    "f1_score(df['labels'], df['pred_labels'], average = 'weighted')"
   ]
  },
  {
   "cell_type": "code",
   "execution_count": 36,
   "id": "95c370a4",
   "metadata": {},
   "outputs": [
    {
     "data": {
      "text/plain": [
       "0.8660714285714286"
      ]
     },
     "execution_count": 36,
     "metadata": {},
     "output_type": "execute_result"
    }
   ],
   "source": [
    "accuracy_score(df['labels'], df['pred_labels'])"
   ]
  }
 ],
 "metadata": {
  "kernelspec": {
   "display_name": "Python 3 (ipykernel)",
   "language": "python",
   "name": "python3"
  },
  "language_info": {
   "codemirror_mode": {
    "name": "ipython",
    "version": 3
   },
   "file_extension": ".py",
   "mimetype": "text/x-python",
   "name": "python",
   "nbconvert_exporter": "python",
   "pygments_lexer": "ipython3",
   "version": "3.9.15"
  }
 },
 "nbformat": 4,
 "nbformat_minor": 5
}
